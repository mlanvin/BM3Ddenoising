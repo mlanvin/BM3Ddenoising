{
 "cells": [
  {
   "cell_type": "markdown",
   "id": "surprised-positive",
   "metadata": {},
   "source": [
    "# Modélisation et Traitement d'Images (MTI)\n",
    "Mathieu Chanavat - Maxime De Beaucorps - Maxime Lanvin - Hugo Vanderperre"
   ]
  },
  {
   "cell_type": "markdown",
   "id": "animated-pattern",
   "metadata": {},
   "source": [
    "## Imports"
   ]
  },
  {
   "cell_type": "code",
   "execution_count": 13,
   "id": "incomplete-midwest",
   "metadata": {},
   "outputs": [
    {
     "ename": "IndentationError",
     "evalue": "expected an indented block (bm3d_lenotre.py, line 178)",
     "output_type": "error",
     "traceback": [
      "Traceback \u001b[0;36m(most recent call last)\u001b[0m:\n",
      "  File \u001b[1;32m\"/home/maximel/anaconda3/envs/envImage/lib/python3.7/site-packages/IPython/core/interactiveshell.py\"\u001b[0m, line \u001b[1;32m3418\u001b[0m, in \u001b[1;35mrun_code\u001b[0m\n    exec(code_obj, self.user_global_ns, self.user_ns)\n",
      "\u001b[0;36m  File \u001b[0;32m\"<ipython-input-13-c8364c29adcd>\"\u001b[0;36m, line \u001b[0;32m2\u001b[0;36m, in \u001b[0;35m<module>\u001b[0;36m\u001b[0m\n\u001b[0;31m    from bm3d_lenotre import BM3D\u001b[0m\n",
      "\u001b[0;36m  File \u001b[0;32m\"/home/maximel/Documents/Centrale Lille/0 - G3/1 - Parcours Sciences des Données & Intelligence Artificielle/16 - Modélisation & Traitement d'images/BM3Ddenoising/bm3d_lenotre.py\"\u001b[0;36m, line \u001b[0;32m178\u001b[0m\n\u001b[0;31m    pass\u001b[0m\n\u001b[0m    ^\u001b[0m\n\u001b[0;31mIndentationError\u001b[0m\u001b[0;31m:\u001b[0m expected an indented block\n"
     ]
    }
   ],
   "source": [
    "import bm3d\n",
    "from bm3d_lenotre import BM3D\n",
    "import numpy as np\n",
    "import matplotlib.pyplot as plt\n",
    "from skimage.metrics import peak_signal_noise_ratio as psnr"
   ]
  },
  {
   "cell_type": "markdown",
   "id": "proud-angola",
   "metadata": {},
   "source": [
    "## Import Images"
   ]
  },
  {
   "cell_type": "code",
   "execution_count": 11,
   "id": "collected-frost",
   "metadata": {},
   "outputs": [
    {
     "name": "stdout",
     "output_type": "stream",
     "text": [
      "X_train: (60000, 28, 28)\n",
      "Y_train: (60000,)\n",
      "X_test:  (10000, 28, 28)\n",
      "Y_test:  (10000,)\n"
     ]
    },
    {
     "data": {
      "image/png": "[encoded data removed]",
      "text/plain": [
       "<Figure size 432x288 with 4 Axes>"
      ]
     },
     "metadata": {
      "needs_background": "light"
     },
     "output_type": "display_data"
    }
   ],
   "source": [
    "from keras.datasets import fashion_mnist\n",
    "# get training and testing vectors \n",
    "(trainX, trainy), (testX, testy) = fashion_mnist.load_data()\n",
    "print('X_train: ' + str(trainX.shape))\n",
    "print('Y_train: ' + str(trainy.shape))\n",
    "print('X_test:  '  + str(testX.shape))\n",
    "print('Y_test:  '  + str(testy.shape))\n",
    "\n",
    "#plotting \n",
    "for i in range(4):  \n",
    "    plt.subplot(330 + 1 + i)\n",
    "    plt.imshow(trainX[i+100], cmap=plt.get_cmap('gray'))\n",
    "plt.show()"
   ]
  },
  {
   "cell_type": "code",
   "execution_count": 12,
   "id": "mechanical-fellowship",
   "metadata": {},
   "outputs": [
    {
     "ename": "NameError",
     "evalue": "name 'BM3D' is not defined",
     "output_type": "error",
     "traceback": [
      "\u001b[0;31m---------------------------------------------------------------------------\u001b[0m",
      "\u001b[0;31mNameError\u001b[0m                                 Traceback (most recent call last)",
      "\u001b[0;32m<ipython-input-12-71e859b299b5>\u001b[0m in \u001b[0;36m<module>\u001b[0;34m\u001b[0m\n\u001b[1;32m     11\u001b[0m }\n\u001b[1;32m     12\u001b[0m \u001b[0;34m\u001b[0m\u001b[0m\n\u001b[0;32m---> 13\u001b[0;31m \u001b[0mdenoiser\u001b[0m \u001b[0;34m=\u001b[0m \u001b[0mBM3D\u001b[0m\u001b[0;34m(\u001b[0m\u001b[0mnp\u001b[0m\u001b[0;34m.\u001b[0m\u001b[0mzeros\u001b[0m\u001b[0;34m(\u001b[0m\u001b[0;34m(\u001b[0m\u001b[0;36m16\u001b[0m\u001b[0;34m,\u001b[0m \u001b[0;36m16\u001b[0m\u001b[0;34m)\u001b[0m\u001b[0;34m)\u001b[0m\u001b[0;34m,\u001b[0m \u001b[0;34m**\u001b[0m\u001b[0mparams\u001b[0m\u001b[0;34m)\u001b[0m\u001b[0;34m\u001b[0m\u001b[0;34m\u001b[0m\u001b[0m\n\u001b[0m\u001b[1;32m     14\u001b[0m \u001b[0mimg_denoised\u001b[0m \u001b[0;34m=\u001b[0m \u001b[0mdenoiser\u001b[0m\u001b[0;34m.\u001b[0m\u001b[0mdenoise\u001b[0m\u001b[0;34m(\u001b[0m\u001b[0;34m)\u001b[0m\u001b[0;34m\u001b[0m\u001b[0;34m\u001b[0m\u001b[0m\n",
      "\u001b[0;31mNameError\u001b[0m: name 'BM3D' is not defined"
     ]
    }
   ],
   "source": [
    "params = {\n",
    "    \"N1_th\": 4,\n",
    "    \"N1_wie\": 4,\n",
    "    \"Ns\": 2,\n",
    "    \"N_step\": 4,\n",
    "    \"sigma\": 2,\n",
    "    \"lambda_3d\": 1,\n",
    "    \"lambda_2d\": 1,\n",
    "    \"tau_ht_match\": 1,\n",
    "    \"tau_wie_match\": 1\n",
    "}\n",
    "\n",
    "denoiser = BM3D(np.zeros((16, 16)), **params)\n",
    "img_denoised = denoiser.denoise()\n"
   ]
  },
  {
   "cell_type": "code",
   "execution_count": null,
   "id": "danish-wealth",
   "metadata": {},
   "outputs": [],
   "source": []
  }
 ],
 "metadata": {
  "kernelspec": {
   "display_name": "Python 3",
   "language": "python",
   "name": "python3"
  },
  "language_info": {
   "codemirror_mode": {
    "name": "ipython",
    "version": 3
   },
   "file_extension": ".py",
   "mimetype": "text/x-python",
   "name": "python",
   "nbconvert_exporter": "python",
   "pygments_lexer": "ipython3",
   "version": "3.7.9"
  }
 },
 "nbformat": 4,
 "nbformat_minor": 5
}
